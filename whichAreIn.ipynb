{
 "cells": [
  {
   "cell_type": "markdown",
   "metadata": {},
   "source": [
    "Given two arrays of strings a1 and a2 return a sorted array r in lexicographical order of the strings of a1 which are substrings of strings of a2.\n",
    "\n",
    "#Example 1: a1 = [\"arp\", \"live\", \"strong\"]\n",
    "\n",
    "a2 = [\"lively\", \"alive\", \"harp\", \"sharp\", \"armstrong\"]\n",
    "\n",
    "returns [\"arp\", \"live\", \"strong\"]\n",
    "\n",
    "#Example 2: a1 = [\"tarp\", \"mice\", \"bull\"]\n",
    "\n",
    "a2 = [\"lively\", \"alive\", \"harp\", \"sharp\", \"armstrong\"]\n",
    "\n",
    "returns []\n",
    "\n",
    "Notes:\n",
    "Arrays are written in \"general\" notation. See \"Your Test Cases\" for examples in your language.\n",
    "\n",
    "In Shell bash a1 and a2 are strings. The return is a string where words are separated by commas.\n",
    "\n",
    "Beware: r must be without duplicates."
   ]
  },
  {
   "cell_type": "code",
   "execution_count": 65,
   "metadata": {
    "collapsed": true
   },
   "outputs": [],
   "source": [
    "a1 = [\"arp\", \"live\", \"strong\"]\n",
    "a2 = [\"lively\", \"alive\", \"harp\", \"sharp\", \"armstrong\"]\n",
    "b1 = [\"tarp\", \"mice\", \"bull\"]\n",
    "b2 = [\"lively\", \"alive\", \"harp\", \"sharp\", \"armstrong\"]"
   ]
  },
  {
   "cell_type": "code",
   "execution_count": 107,
   "metadata": {},
   "outputs": [],
   "source": [
    "# instructions for this one sucked and I did it wrong and lost interest\n",
    "\n",
    "def reverse_array(array):\n",
    "    result = []\n",
    "    for element in array:\n",
    "        result.append(element[::-1])\n",
    "    return result\n",
    "\n",
    "def remove_dupes(list1, list2):\n",
    "    # remove duplicates from list 2 using shitty algorithms\n",
    "    result = []\n",
    "    for word in list1:\n",
    "        if word in list2:\n",
    "            result.append(word)\n",
    "    return result\n",
    "\n",
    "def in_array(array1, array2):\n",
    "\n",
    "    # reverse teh arrays\n",
    "    rev_array1 = reverse_array(array1)\n",
    "    rev_array2 = reverse_array(array2)\n",
    "    \n",
    "    # test for similarities\n",
    "    word_holder = []\n",
    "    for element1 in rev_array1:\n",
    "        for element2 in rev_array2:\n",
    "#             print('1: ', element1, '2: ', element2)\n",
    "            letter_holder = ''\n",
    "            for letter1, letter2 in zip(element1, element2):\n",
    "                if letter1 == letter2:\n",
    "                    letter_holder += letter1\n",
    "            if letter_holder == element1:\n",
    "                word_holder.append(letter_holder)\n",
    "    \n",
    "#     print('words: ', word_holder)\n",
    "    \n",
    "    return sorted(remove_dupes(array1, reverse_array(word_holder)))"
   ]
  },
  {
   "cell_type": "code",
   "execution_count": 106,
   "metadata": {},
   "outputs": [
    {
     "data": {
      "text/plain": [
       "['arp', 'live', 'strong']"
      ]
     },
     "execution_count": 106,
     "metadata": {},
     "output_type": "execute_result"
    }
   ],
   "source": [
    "in_array(a1, a2)"
   ]
  },
  {
   "cell_type": "code",
   "execution_count": null,
   "metadata": {
    "collapsed": true
   },
   "outputs": [],
   "source": []
  }
 ],
 "metadata": {
  "kernelspec": {
   "display_name": "Python 3",
   "language": "python",
   "name": "python3"
  },
  "language_info": {
   "codemirror_mode": {
    "name": "ipython",
    "version": 3
   },
   "file_extension": ".py",
   "mimetype": "text/x-python",
   "name": "python",
   "nbconvert_exporter": "python",
   "pygments_lexer": "ipython3",
   "version": "3.6.2"
  }
 },
 "nbformat": 4,
 "nbformat_minor": 2
}
